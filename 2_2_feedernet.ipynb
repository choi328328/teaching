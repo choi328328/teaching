{
 "cells": [
  {
   "cell_type": "code",
   "execution_count": 7,
   "metadata": {},
   "outputs": [
    {
     "name": "stderr",
     "output_type": "stream",
     "text": [
      "/var/folders/cp/b5d14cks2gn2s9h43tb_hlw80000gn/T/ipykernel_30651/1784488154.py:18: DeprecationWarning: executable_path has been deprecated, please pass in a Service object\n",
      "  driver = webdriver.Chrome(executable_path=driver_path)\n"
     ]
    }
   ],
   "source": [
    "import selenium\n",
    "from selenium import webdriver\n",
    "from selenium.webdriver import ActionChains\n",
    "\n",
    "from selenium.webdriver.common.keys import Keys\n",
    "from selenium.webdriver.common.by import By\n",
    "\n",
    "from selenium.webdriver.support import expected_conditions as EC\n",
    "from selenium.webdriver.support.ui import Select\n",
    "from selenium.webdriver.support.ui import WebDriverWait\n",
    "import os\n",
    "import contextlib\n",
    "\n",
    "def try_find(driver, by, name):\n",
    "    try:\n",
    "        driver.find_element(by, name)\n",
    "        return True\n",
    "    except Exception:\n",
    "        return False\n",
    "    \n",
    "url = 'https://feedernet.com'\n",
    "driver_path = './chromedriver_102'\n",
    "#os.system(f\"spctl --add --label 'Approved' {driver_path}\")  #for authorization. Mac only\n",
    "driver = webdriver.Chrome(executable_path=driver_path)\n",
    "\n",
    "driver.get(url=url) # browsing\n",
    "driver.implicitly_wait(time_to_wait=15) # wait for loading\n",
    "\n",
    "if try_find(driver, By.CSS_SELECTOR, \".park byungshin\"):\n",
    "    \n",
    "driver.find_element(By.CSS_SELECTOR, \".login span\").click()\n",
    "driver.find_element(By.CSS_SELECTOR, \".form-group:nth-child(1) > .form-group > .form-control\").click()\n",
    "driver.find_element(By.CSS_SELECTOR, \".form-group:nth-child(1) > .form-group > .form-control\").send_keys(\"choi328328@ajou.ac.kr\")\n",
    "driver.find_element(By.CSS_SELECTOR, \".form-group:nth-child(2) .form-control\").send_keys(pw)\n",
    "driver.find_element(By.CSS_SELECTOR, \".form-group:nth-child(2) .form-control\").send_keys(Keys.ENTER)"
   ]
  },
  {
   "cell_type": "code",
   "execution_count": 9,
   "metadata": {},
   "outputs": [
    {
     "data": {
      "text/plain": [
       "False"
      ]
     },
     "execution_count": 9,
     "metadata": {},
     "output_type": "execute_result"
    }
   ],
   "source": [
    "\n",
    "\n",
    "if try_find(driver, By.CSS_SELECTOR, \".park byungshin\"):\n",
    "    print(1)"
   ]
  },
  {
   "cell_type": "code",
   "execution_count": 12,
   "metadata": {},
   "outputs": [
    {
     "name": "stdout",
     "output_type": "stream",
     "text": [
      "1\n",
      "3\n"
     ]
    }
   ],
   "source": [
    "if 1==1:\n",
    "    print(1)\n",
    "\n",
    "if 1==2:\n",
    "    print(2)\n",
    "    \n",
    "if True: \n",
    "    print(3)\n",
    "\n",
    "if False:\n",
    "    print(4)"
   ]
  },
  {
   "cell_type": "code",
   "execution_count": 4,
   "metadata": {},
   "outputs": [],
   "source": [
    "driver.find_element(By.CSS_SELECTOR, \"ul:nth-child(2) > li:nth-child(2) .titleNavMenu\").click()\n",
    "driver.find_element(By.CSS_SELECTOR, \".css-1vxgi72 .css-t5emrf\").click()"
   ]
  },
  {
   "cell_type": "code",
   "execution_count": 6,
   "metadata": {},
   "outputs": [],
   "source": []
  },
  {
   "cell_type": "code",
   "execution_count": null,
   "metadata": {},
   "outputs": [],
   "source": [
    "success_button = driver.find_element(by=By.CLASS_NAME,value=\"btn-success\") # 1개만\n",
    "success_buttons = driver.find_elements(by=By.CLASS_NAME,value=\"btn-success\") # 여러개\n",
    "\n",
    "#더 많다면...?\n",
    "\n",
    "\n",
    "\n"
   ]
  }
 ],
 "metadata": {
  "kernelspec": {
   "display_name": "Python 3.8.8 ('base')",
   "language": "python",
   "name": "python3"
  },
  "language_info": {
   "codemirror_mode": {
    "name": "ipython",
    "version": 3
   },
   "file_extension": ".py",
   "mimetype": "text/x-python",
   "name": "python",
   "nbconvert_exporter": "python",
   "pygments_lexer": "ipython3",
   "version": "3.8.8"
  },
  "orig_nbformat": 4,
  "vscode": {
   "interpreter": {
    "hash": "0babe36d56b8a40e929084f4cd298e834b9ceb0b3c3094c65a02fb3d36632864"
   }
  }
 },
 "nbformat": 4,
 "nbformat_minor": 2
}
