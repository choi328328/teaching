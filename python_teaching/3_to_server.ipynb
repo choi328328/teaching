{
 "cells": [
  {
   "cell_type": "code",
   "execution_count": 1,
   "metadata": {},
   "outputs": [],
   "source": [
    "# CLI\n",
    "# GUI\n",
    "\n",
    "# Terminal, CMD\n",
    "\n",
    "# SSH, SCP \n",
    "\n",
    "# tar, gzip, tar.gz, zip...\n",
    "# compression format\n",
    "\n",
    "# tar -> 여러 파일을 1개파일로 묶음. 그냥 묶기\n",
    "# gzip -> 1개 파일을 압축을 함\n",
    "# tar.gz -> tar + gzip, tar로 1개로 묶고, 그다음 gzip으로 압축\n",
    "# zip -> 여러 파일을 한번에 압축을 함\n",
    "\n",
    "# Configuration : XML, JSON, YAML, Dataclass, Pydantic (id, pw나 기타 등등 자주 바뀌는 변수들을 담아놓은 별도의 공간) \n",
    "\n",
    "# 위 키워드로 검색해서 구글에서 많이 읽어보세요~~\n",
    "# 특히 SSH, SCP 명령어 잘 기억해놓으세요"
   ]
  },
  {
   "cell_type": "code",
   "execution_count": null,
   "metadata": {},
   "outputs": [],
   "source": [
    "# PLP package\n",
    "\n",
    "# Server \n",
    "# Unzip\n",
    "# Build\n",
    "# Code to Run -> configuration\n",
    "# run X\n",
    "# Results -> local-> or shiny\n",
    "\n",
    "# Purpose : 명령어 한줄로 우리가 원하는 PLP zip파일을 우리가 원하는 서버에서 돌리고, 결과만 받으면 좋겠다.\n"
   ]
  },
  {
   "cell_type": "code",
   "execution_count": 7,
   "metadata": {},
   "outputs": [],
   "source": [
    "# 1. SSH connect to server\n",
    "\n",
    "#pip install paramiko\n",
    "#pip install scp\n",
    "\n",
    "import paramiko\n",
    "from scp import SCPClient\n",
    "import getpass\n",
    "\n",
    "def createSSHClient(server, port, user, password):\n",
    "    client = paramiko.SSHClient()\n",
    "    client.load_system_host_keys()\n",
    "    client.set_missing_host_key_policy(paramiko.AutoAddPolicy())\n",
    "    client.connect(server, port, user, password)\n",
    "    return client\n",
    "\n",
    "pw = getpass.getpass()\n",
    "ssh = createSSHClient('10.5.12.43', '22', 'cbj', pw)"
   ]
  },
  {
   "cell_type": "code",
   "execution_count": 8,
   "metadata": {},
   "outputs": [],
   "source": [
    "# SCP\n",
    "scp = SCPClient(ssh.get_transport())\n",
    "base_path = '/home/cbj/ssh_test'\n",
    "scp.put('fltest3.zip',base_path)"
   ]
  },
  {
   "cell_type": "code",
   "execution_count": 9,
   "metadata": {},
   "outputs": [],
   "source": [
    "# unzip\n",
    "\n",
    "stdin, stdout, stderr=ssh.exec_command(f'unzip -o {base_path}/fltest3.zip')\n"
   ]
  },
  {
   "cell_type": "code",
   "execution_count": 10,
   "metadata": {},
   "outputs": [
    {
     "data": {
      "text/plain": [
       "['Archive:  /home/cbj/ssh_test/fltest3.zip\\n',\n",
       " '  inflating: .Rbuildignore           \\n',\n",
       " '  inflating: .Rprofile               \\n',\n",
       " '  inflating: .Rproj.user/F934BCE8/sources/prop/53F8A3DD  \\n',\n",
       " '  inflating: .Rproj.user/F934BCE8/sources/prop/INDEX  \\n',\n",
       " '  inflating: .Rproj.user/F934BCE8/sources/s-3C059F61/F2D43E04  \\n',\n",
       " '  inflating: .Rproj.user/F934BCE8/sources/s-3C059F61/F2D43E04-contents  \\n',\n",
       " '  inflating: .Rproj.user/F934BCE8/sources/s-3C059F61/lock_file  \\n',\n",
       " '  inflating: .Rproj.user/shared/notebooks/patch-chunk-names  \\n',\n",
       " '  inflating: .gitignore              \\n',\n",
       " '  inflating: DESCRIPTION             \\n',\n",
       " '  inflating: HydraConfig.json        \\n',\n",
       " '  inflating: NAMESPACE               \\n',\n",
       " '  inflating: R/CreateAllCohorts.R    \\n',\n",
       " '  inflating: R/CreateCohorts.R       \\n',\n",
       " '  inflating: R/Main.R                \\n',\n",
       " '  inflating: R/PackageResults.R      \\n',\n",
       " '  inflating: R/fltest3.R             \\n',\n",
       " '  inflating: R/SubmitResults.R       \\n',\n",
       " '  inflating: R/createDocument.R      \\n',\n",
       " '  inflating: R/createPlpProtocol.R   \\n',\n",
       " '  inflating: R/createValidationPackage.R  \\n',\n",
       " '  inflating: R/populateShinyApp.R    \\n',\n",
       " '  inflating: R/readJson.R            \\n',\n",
       " '  inflating: fltest3.Rproj           \\n',\n",
       " '  inflating: extras/CodeToRun.R      \\n',\n",
       " '  inflating: extras/CreatePredictionAnalysisDetails.R  \\n',\n",
       " '  inflating: extras/PackageMaintenance.R  \\n',\n",
       " '  inflating: extras/packageDeps.R    \\n',\n",
       " '  inflating: inst/doc/UsingSkeletonPackage.pdf  \\n',\n",
       " '  inflating: inst/doc/UsingSkeletonPackage.tex  \\n',\n",
       " '  inflating: inst/settings/CohortsToCreate.csv  \\n',\n",
       " '  inflating: inst/shiny/PLPViewer/PLPViewer.Rproj  \\n',\n",
       " '  inflating: inst/shiny/PLPViewer/global.R  \\n',\n",
       " '  inflating: inst/shiny/PLPViewer/plots.R  \\n',\n",
       " '  inflating: inst/shiny/PLPViewer/server.R  \\n',\n",
       " '  inflating: inst/shiny/PLPViewer/ui.R  \\n',\n",
       " '  inflating: inst/shiny/PLPViewer/utils.R  \\n',\n",
       " '  inflating: inst/shiny/PLPViewer/www/about.png  \\n',\n",
       " '  inflating: inst/shiny/PLPViewer/www/custom.css  \\n',\n",
       " '  inflating: inst/shiny/PLPViewer/www/favicon.ico  \\n',\n",
       " '  inflating: inst/shiny/PLPViewer/www/logo.png  \\n',\n",
       " '  inflating: inst/sql/sql_server/CreateCohortTable.sql  \\n',\n",
       " '  inflating: inst/sql/sql_server/GetCounts.sql  \\n',\n",
       " '  inflating: man/fltest3.Rd          \\n',\n",
       " '  inflating: man/createCohorts.Rd    \\n',\n",
       " '  inflating: man/createJournalDocument.Rd  \\n',\n",
       " '  inflating: man/createMultiPlpReport.Rd  \\n',\n",
       " '  inflating: man/createPlpProtocol.Rd  \\n',\n",
       " '  inflating: man/execute.Rd          \\n',\n",
       " '  inflating: man/packageResults.Rd   \\n',\n",
       " '  inflating: man/submitResults.Rd    \\n',\n",
       " '  inflating: readme.md               \\n',\n",
       " '  inflating: vignettes/Figure1.png   \\n',\n",
       " '  inflating: vignettes/UsingSkeletonPackage.Rmd  \\n',\n",
       " '  inflating: inst/cohorts/cbj_fl_target.json  \\n',\n",
       " '  inflating: inst/cohorts/cbj_fl_outcome.json  \\n',\n",
       " '  inflating: inst/sql/sql_server/cbj_fl_outcome.sql  \\n',\n",
       " '  inflating: inst/sql/sql_server/cbj_fl_target.sql  \\n',\n",
       " '  inflating: inst/settings/predictionAnalysisList.json  \\n']"
      ]
     },
     "execution_count": 10,
     "metadata": {},
     "output_type": "execute_result"
    }
   ],
   "source": [
    "lines = stdout.readlines()\n",
    "lines"
   ]
  },
  {
   "cell_type": "code",
   "execution_count": 11,
   "metadata": {},
   "outputs": [
    {
     "data": {
      "text/plain": [
       "['   ‘UsingSkeletonPackage.Rmd’ using ‘UTF-8’ \\n']"
      ]
     },
     "execution_count": 11,
     "metadata": {},
     "output_type": "execute_result"
    }
   ],
   "source": [
    "# build\n",
    "build_command = (\n",
    "\tf\"R CMD INSTALL --no-multiarch --with-keep.source {base_path}\"\n",
    ")\n",
    "stdin, stdout, stderr=ssh.exec_command(build_command)\n",
    "lines = stdout.readlines()\n",
    "lines"
   ]
  },
  {
   "cell_type": "code",
   "execution_count": 18,
   "metadata": {},
   "outputs": [],
   "source": [
    "# configuration\n",
    "from omegaconf import OmegaConf\n",
    "db_conf = OmegaConf.load('client_conf.yaml').db_conf"
   ]
  },
  {
   "cell_type": "code",
   "execution_count": 20,
   "metadata": {},
   "outputs": [],
   "source": [
    "# Make script\n",
    "project= 'fltest3'\n",
    "rscript=f'''\n",
    "\n",
    "library({project})\n",
    "library(dplyr)\n",
    "# USER INPUTS\n",
    "#=======================\n",
    "# The folder where the study intermediate and result files will be written:\n",
    "outputFolder <- \"Results\"\n",
    "\n",
    "# Specify where the temporary files (used by the ff package) will be created:\n",
    "options(fftempdir = \"./temp\")\n",
    "\n",
    "# Details for connecting to the server:\n",
    "dbms <- \"{db_conf.dbms}\"\n",
    "user <- '{db_conf.user}'\n",
    "pw <- '{db_conf.pw}'\n",
    "server <- '{db_conf.server}'\n",
    "port <- '{db_conf.port}' \n",
    "\n",
    "downloadJdbcDrivers('{db_conf.dbms}','./{project}')\n",
    "connectionDetails <- DatabaseConnector::createConnectionDetails(dbms = dbms,\n",
    "                                                            server = server,\n",
    "                                                            user = user,\n",
    "                                                            password = pw,\n",
    "                                                            port = port,\n",
    "                                                            pathToDriver='./{project}')\n",
    "\n",
    "# Add the database containing the OMOP CDM data\n",
    "cdmDatabaseSchema <- '{db_conf.cdmDatabaseSchema}'\n",
    "# Add a sharebale name for the database containing the OMOP CDM data\n",
    "cdmDatabaseName <- '{db_conf.cdmDatabaseName}'\n",
    "# Add a database with read/write access as this is where the cohorts will be generated\n",
    "cohortDatabaseSchema <- '{db_conf.cohortDatabaseSchema}'\n",
    "\n",
    "oracleTempSchema <- NULL\n",
    "\n",
    "# table name where the cohorts will be generated\n",
    "cohortTable <- '{project}Cohort'\n",
    "#=======================\n",
    "\n",
    "execute(connectionDetails = connectionDetails,\n",
    "    cdmDatabaseSchema = cdmDatabaseSchema,\n",
    "    cdmDatabaseName = cdmDatabaseName,\n",
    "    cohortDatabaseSchema = cohortDatabaseSchema,\n",
    "    oracleTempSchema = oracleTempSchema,\n",
    "    cohortTable = cohortTable,\n",
    "    outputFolder = outputFolder,\n",
    "    createProtocol = F,\n",
    "    createCohorts = T,\n",
    "    runAnalyses = T,\n",
    "    createResultsDoc = F,\n",
    "    packageResults = F,\n",
    "    createValidationPackage = F,  \n",
    "    #analysesToValidate = 1,\n",
    "    minCellCount= 5,\n",
    "    createShiny = F,\n",
    "    createJournalDocument = F,\n",
    "    analysisIdDocument = 1)\n",
    "'''\n",
    "\n",
    "with open('./temp_run.R','w') as f:\n",
    "    f.write(rscript)\n",
    "\n"
   ]
  },
  {
   "cell_type": "code",
   "execution_count": 21,
   "metadata": {},
   "outputs": [],
   "source": [
    "# transport script\n",
    "scp = SCPClient(ssh.get_transport())\n",
    "base_path = '/home/cbj/ssh_test'\n",
    "scp.put('temp_run.R',f'{base_path}/extras/')"
   ]
  },
  {
   "cell_type": "code",
   "execution_count": 22,
   "metadata": {},
   "outputs": [
    {
     "name": "stdout",
     "output_type": "stream",
     "text": [
      "['Creating cohorts\\n', 'Creating cohort: cbj_fl_outcome\\n', '\\r  |                                                                            \\r  |                                                                      |   0%\\r  |                                                                            \\r  |===                                                                   |   5%\\r  |                                                                            \\r  |=======                                                               |  10%\\r  |                                                                            \\r  |==========                                                            |  14%\\r  |                                                                            \\r  |=============                                                         |  19%\\r  |                                                                            \\r  |=================                                                     |  24%\\r  |                                                                            \\r  |====================                                                  |  29%\\r  |                                                                            \\r  |=======================                                               |  33%\\r  |                                                                            \\r  |===========================                                           |  38%\\r  |                                                                            \\r  |==============================                                        |  43%\\r  |                                                                            \\r  |=================================                                     |  48%\\r  |                                                                            \\r  |=====================================                                 |  52%\\r  |                                                                            \\r  |========================================                              |  57%\\r  |                                                                            \\r  |===========================================                           |  62%\\r  |                                                                            \\r  |===============================================                       |  67%\\r  |                                                                            \\r  |==================================================                    |  71%\\r  |                                                                            \\r  |=====================================================                 |  76%\\r  |                                                                            \\r  |=========================================================             |  81%\\r  |                                                                            \\r  |============================================================          |  86%\\r  |                                                                            \\r  |===============================================================       |  90%\\r  |                                                                            \\r  |===================================================================   |  95%\\r  |                                                                            \\r  |======================================================================| 100%\\n', 'Creating cohort: cbj_fl_target\\n', '\\r  |                                                                            \\r  |                                                                      |   0%\\r  |                                                                            \\r  |===                                                                   |   5%\\r  |                                                                            \\r  |=======                                                               |  10%\\r  |                                                                            \\r  |==========                                                            |  14%\\r  |                                                                            \\r  |=============                                                         |  19%\\r  |                                                                            \\r  |=================                                                     |  24%\\r  |                                                                            \\r  |====================                                                  |  29%\\r  |                                                                            \\r  |=======================                                               |  33%\\r  |                                                                            \\r  |===========================                                           |  38%\\r  |                                                                            \\r  |==============================                                        |  43%\\r  |                                                                            \\r  |=================================                                     |  48%\\r  |                                                                            \\r  |=====================================                                 |  52%\\r  |                                                                            \\r  |========================================                              |  57%\\r  |                                                                            \\r  |===========================================                           |  62%\\r  |                                                                            \\r  |===============================================                       |  67%\\r  |                                                                            \\r  |==================================================                    |  71%\\r  |                                                                            \\r  |=====================================================                 |  76%\\r  |                                                                            \\r  |=========================================================             |  81%\\r  |                                                                            \\r  |============================================================          |  86%\\r  |                                                                            \\r  |===============================================================       |  90%\\r  |                                                                            \\r  |===================================================================   |  95%\\r  |                                                                            \\r  |======================================================================| 100%\\n', 'Counting cohorts\\n', 'Running predictions\\n', '\\n', 'Constructing the at risk cohort\\n', '\\r  |                                                                            \\r  |                                                                      |   0%\\r  |                                                                            \\r  |===================================                                   |  50%\\r  |                                                                            \\r  |======================================================================| 100%\\n', 'Fetching cohorts from server\\n', 'Loading cohorts took 0.199 secs\\n', 'Constructing features on server\\n', '\\r  |                                                                            \\r  |                                                                      |   0%\\r  |                                                                            \\r  |===                                                                   |   4%\\r  |                                                                            \\r  |======                                                                |   8%\\r  |                                                                            \\r  |=========                                                             |  12%\\r  |                                                                            \\r  |============                                                          |  17%\\r  |                                                                            \\r  |===============                                                       |  21%\\r  |                                                                            \\r  |==================                                                    |  25%\\r  |                                                                            \\r  |====================                                                  |  29%\\r  |                                                                            \\r  |=======================                                               |  33%\\r  |                                                                            \\r  |==========================                                            |  38%\\r  |                                                                            \\r  |=============================                                         |  42%\\r  |                                                                            \\r  |================================                                      |  46%\\r  |                                                                            \\r  |===================================                                   |  50%\\r  |                                                                            \\r  |======================================                                |  54%\\r  |                                                                            \\r  |=========================================                             |  58%\\r  |                                                                            \\r  |============================================                          |  62%\\r  |                                                                            \\r  |===============================================                       |  67%\\r  |                                                                            \\r  |==================================================                    |  71%\\r  |                                                                            \\r  |====================================================                  |  75%\\r  |                                                                            \\r  |=======================================================               |  79%\\r  |                                                                            \\r  |==========================================================            |  83%\\r  |                                                                            \\r  |=============================================================         |  88%\\r  |                                                                            \\r  |================================================================      |  92%\\r  |                                                                            \\r  |===================================================================   |  96%\\r  |                                                                            \\r  |======================================================================| 100%\\n', 'Fetching data from server\\n', 'Fetching data took 1.45 secs\\n', 'Fetching outcomes from server\\n', 'Error with getPlpData:Error in (function (connectionDetails, cdmDatabaseSchema, oracleTempSchema = cdmDatabaseSchema, : No Outcomes\\n', '\\n', 'No plpData - probably empty cohort issue\\n', 'Patient-Level Prediction Package version 4.3.7\\n']\n"
     ]
    }
   ],
   "source": [
    "# run Rscript\n",
    "stdin, stdout, stderr=ssh.exec_command(f\"Rscript {base_path}/extras/temp_run.R\")\n",
    "lines = stdout.readlines()\n",
    "print(lines)\n"
   ]
  },
  {
   "cell_type": "code",
   "execution_count": 25,
   "metadata": {},
   "outputs": [],
   "source": [
    "# get results\n",
    "scp.get(f'{base_path}/extras','.', recursive =True)"
   ]
  },
  {
   "cell_type": "code",
   "execution_count": null,
   "metadata": {},
   "outputs": [],
   "source": [
    "###########################"
   ]
  },
  {
   "cell_type": "code",
   "execution_count": null,
   "metadata": {},
   "outputs": [],
   "source": [
    "def createSSHClient(server, port, user, password):\n",
    "    client = paramiko.SSHClient()\n",
    "    client.load_system_host_keys()\n",
    "    client.set_missing_host_key_policy(paramiko.AutoAddPolicy())\n",
    "    client.connect(server, port, user, password)\n",
    "    return client\n",
    "\n",
    "\n",
    "def plp_run(ssh,base_path, project, db_conf):\n",
    "    \n",
    "    rscript=f'''\n",
    "\n",
    "    library({project})\n",
    "    library(dplyr)\n",
    "    # USER INPUTS\n",
    "    #=======================\n",
    "    # The folder where the study intermediate and result files will be written:\n",
    "    outputFolder <- \"Results\"\n",
    "\n",
    "    # Specify where the temporary files (used by the ff package) will be created:\n",
    "    options(fftempdir = \"./temp\")\n",
    "\n",
    "    # Details for connecting to the server:\n",
    "    dbms <- \"{db_conf.dbms}\"\n",
    "    user <- '{db_conf.user}'\n",
    "    pw <- '{db_conf.pw}'\n",
    "    server <- '{db_conf.server}'\n",
    "    port <- '{db_conf.port}'\n",
    "\n",
    "    downloadJdbcDrivers('{db_conf.dbms}','.')\n",
    "    connectionDetails <- DatabaseConnector::createConnectionDetails(dbms = dbms,\n",
    "                                                                server = server,\n",
    "                                                                user = user,\n",
    "                                                                password = pw,\n",
    "                                                                port = port,\n",
    "                                                                pathToDriver='.')\n",
    "\n",
    "    # Add the database containing the OMOP CDM data\n",
    "    cdmDatabaseSchema <- '{db_conf.cdmDatabaseSchema}'\n",
    "    # Add a sharebale name for the database containing the OMOP CDM data\n",
    "    cdmDatabaseName <- '{db_conf.cdmDatabaseName}'\n",
    "    # Add a database with read/write access as this is where the cohorts will be generated\n",
    "    cohortDatabaseSchema <- '{db_conf.cohortDatabaseSchema}'\n",
    "\n",
    "    oracleTempSchema <- NULL\n",
    "\n",
    "    # table name where the cohorts will be generated\n",
    "    cohortTable <- '{project}Cohort'\n",
    "    #=======================\n",
    "\n",
    "    execute(connectionDetails = connectionDetails,\n",
    "        cdmDatabaseSchema = cdmDatabaseSchema,\n",
    "        cdmDatabaseName = cdmDatabaseName,\n",
    "        cohortDatabaseSchema = cohortDatabaseSchema,\n",
    "        oracleTempSchema = oracleTempSchema,\n",
    "        cohortTable = cohortTable,\n",
    "        outputFolder = outputFolder,\n",
    "        createProtocol = F,\n",
    "        createCohorts = T,\n",
    "        runAnalyses = T,\n",
    "        createResultsDoc = F,\n",
    "        packageResults = F,\n",
    "        createValidationPackage = F,  \n",
    "        #analysesToValidate = 1,\n",
    "        minCellCount= 5,\n",
    "        createShiny = F,\n",
    "        createJournalDocument = F,\n",
    "        analysisIdDocument = 1)\n",
    "    '''\n",
    "\n",
    "    with open('./temp_run.R','w') as f:\n",
    "        f.write(rscript)\n",
    "    \n",
    "    scp = SCPClient(ssh.get_transport())\n",
    "    scp.put(f'{project}.zip',base_path)\n",
    "    \n",
    "    unzip_command = f'unzip -o {base_path}/{project}.zip'\n",
    "    stdin, stdout, stderr=ssh.exec_command(unzip_command)\n",
    "    lines = stdout.readlines()\n",
    "    print(lines)\n",
    "    \n",
    "    build_command = (\n",
    "\tf\"R CMD INSTALL --no-multiarch --with-keep.source {base_path}\"\n",
    "    )\n",
    "    stdin, stdout, stderr=ssh.exec_command(build_command)\n",
    "    lines = stdout.readlines()\n",
    "    print(lines)\n",
    "    \n",
    "    scp = SCPClient(ssh.get_transport())\n",
    "    scp.put('temp_run.R',f'{base_path}/extras/')\n",
    "\n",
    "    rscript_command = f\"Rscript {base_path}/extras/temp_run.R\"\n",
    "    stdin, stdout, stderr=ssh.exec_command(rscript_command)\n",
    "    lines = stdout.readlines()\n",
    "    print(lines)\n",
    "\n",
    "    scp.get(f'{base_path}/extras/Results','.', recursive =True)\n",
    "\n",
    "    # json file, csv file, rds file\n",
    "    # 결과값이 바로 출력 HR or N수 출력 "
   ]
  },
  {
   "cell_type": "code",
   "execution_count": 26,
   "metadata": {},
   "outputs": [],
   "source": []
  },
  {
   "cell_type": "code",
   "execution_count": 27,
   "metadata": {},
   "outputs": [],
   "source": [
    "import paramiko\n",
    "from scp import SCPClient\n",
    "from omegaconf import OmegaConf\n",
    "from getpass import getpass\n",
    "\n",
    "pw = getpass()\n",
    "\n",
    "ssh = createSSHClient('10.5.12.43', '22', 'cbj', pw)\n",
    "# configuration\n",
    "db_conf = OmegaConf.load('client_conf.yaml').db_conf\n",
    "base_path = '/home/cbj/ssh_test'\n",
    "\n",
    "plp_run(ssh=ssh,base_path=base_path, project='fltest3', db_conf=db_conf)"
   ]
  },
  {
   "cell_type": "code",
   "execution_count": 28,
   "metadata": {},
   "outputs": [],
   "source": [
    "# seol_hnnc PLP zipfile -> \n",
    "plp_run(ssh=ssh,base_path='/home/cbj/Rtest', project='seol_hnnc', db_conf=db_conf)"
   ]
  },
  {
   "cell_type": "code",
   "execution_count": 30,
   "metadata": {},
   "outputs": [],
   "source": [
    "# seol_hnnc PLP zipfile -> \n",
    "plp_run(ssh=ssh,base_path='/home/cbj/Rtest', project='seol_hnnc', db_conf=db_conf)"
   ]
  },
  {
   "cell_type": "code",
   "execution_count": null,
   "metadata": {},
   "outputs": [],
   "source": [
    "# Webpage에서 PLP 다운 받는 방법\n",
    "# + \n",
    "# plp_run\n",
    "\n",
    "# 코드 한줄로....원하는 PLP 패키지를 다운받고, plp_run 파이썬 함수를 제작 가능"
   ]
  },
  {
   "cell_type": "code",
   "execution_count": null,
   "metadata": {},
   "outputs": [],
   "source": [
    "# 숙제 : \n",
    "# \t다운로드 받은 패키지를 서버로 옮겨서 실행해서 결과까지 확인하는 코드 작성\n",
    "#\t이전 시간에 작성한 Feedernet or ATLAS 코드와 이어지도록 코드 작성해서 순수 파이썬으로 패키지 다운받고 서버로 보내서 실행해서 결과값 받을 수 있도록 코드 작성\n",
    "#-----\n",
    "\n",
    "# 다음 수업 2~3주 후...\n",
    "# 여러 병원에 특정 컨셉에 RC를 확인하기 위해서, feedernet 병원별로 들어가서, concept으로 들어가서, 그 search 패널에 들어가서, 하나하나 쳐봐서 RC를.\n",
    "# 특정 코호트가 어느 병원에 존재하는지 확인하기 위해서...그 병원에 또 들어"
   ]
  }
 ],
 "metadata": {
  "interpreter": {
   "hash": "0babe36d56b8a40e929084f4cd298e834b9ceb0b3c3094c65a02fb3d36632864"
  },
  "kernelspec": {
   "display_name": "Python 3.8.8 ('base')",
   "language": "python",
   "name": "python3"
  },
  "language_info": {
   "codemirror_mode": {
    "name": "ipython",
    "version": 3
   },
   "file_extension": ".py",
   "mimetype": "text/x-python",
   "name": "python",
   "nbconvert_exporter": "python",
   "pygments_lexer": "ipython3",
   "version": "3.8.8"
  },
  "orig_nbformat": 4
 },
 "nbformat": 4,
 "nbformat_minor": 2
}
