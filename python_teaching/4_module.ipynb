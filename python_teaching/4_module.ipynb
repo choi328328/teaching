{
 "cells": [
  {
   "cell_type": "code",
   "execution_count": null,
   "metadata": {},
   "outputs": [],
   "source": [
    "# 1. logging 개념의 이해\n",
    "# 2. 모듈화의 필요성 및 클래스의 필요성\n",
    "# 3. 파이썬의 실제 모듈화 모양\n",
    "# 4. 실전! 연구실에서 노가다로 진행되는 작업들을 자동화해봅시다"
   ]
  },
  {
   "cell_type": "code",
   "execution_count": null,
   "metadata": {},
   "outputs": [],
   "source": [
    "# 1. Loguru\n",
    "# debug-info-warning-error"
   ]
  },
  {
   "cell_type": "code",
   "execution_count": null,
   "metadata": {},
   "outputs": [],
   "source": [
    "# 2. 리팩토링 및 module 필요성\n"
   ]
  },
  {
   "cell_type": "code",
   "execution_count": null,
   "metadata": {},
   "outputs": [],
   "source": [
    "# 3. Class화로 대체?"
   ]
  },
  {
   "cell_type": "code",
   "execution_count": null,
   "metadata": {},
   "outputs": [],
   "source": [
    "# 다음주까지 숙제\n",
    "#\t지금 연구실에서 하고 있는 작업중에 노가다 작업을 자동화해봅시다~~ 꼭 셀레늄 기반으로 웹 관련한것 아니라도 좋습니다.\n",
    "# \t하다가 어려우면 저한테 말하세요~\n",
    "#\t다음주부터는 피드백만 진행됩니다~"
   ]
  }
 ],
 "metadata": {
  "language_info": {
   "name": "python"
  },
  "orig_nbformat": 4
 },
 "nbformat": 4,
 "nbformat_minor": 2
}
