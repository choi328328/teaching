{
 "cells": [
  {
   "cell_type": "code",
   "execution_count": 14,
   "metadata": {},
   "outputs": [
    {
     "name": "stderr",
     "output_type": "stream",
     "text": [
      "<ipython-input-14-b3bec9d2b1d2>:14: DeprecationWarning: executable_path has been deprecated, please pass in a Service object\n",
      "  driver = webdriver.Chrome(executable_path=driver_path)\n"
     ]
    }
   ],
   "source": [
    "import selenium\n",
    "from selenium import webdriver\n",
    "from selenium.webdriver import ActionChains\n",
    "import time \n",
    "from selenium.webdriver.common.keys import Keys\n",
    "from selenium.webdriver.common.by import By\n",
    "from getpass import getpass\n",
    "\n",
    "# Beautifulsoup \n",
    "# Selenium\n",
    "\n",
    "URL = 'https://feedernet.com/'\n",
    "driver_path = './chromedriver_102'\n",
    "#os.system(f\"spctl --add --label 'Approved' {driver_path}\")  #for authorization. Mac only\n",
    "driver = webdriver.Chrome(executable_path=driver_path)\n",
    "\n",
    "pw = getpass()"
   ]
  },
  {
   "cell_type": "code",
   "execution_count": null,
   "metadata": {},
   "outputs": [],
   "source": [
    "def plp_download(id,pw, package_name, filter_search):\n",
    "    \n",
    "    driver.get('https://feedernet.com/')\n",
    "\tdriver.implicitly_wait(time_to_wait=5)\n",
    "\n",
    "\tdriver.find_element(By.CSS_SELECTOR, \".login span\").click()\n",
    "\tdriver.find_element(By.CSS_SELECTOR, \".form-group:nth-child(1) > .form-group > .form-control\").send_keys(\"choi328328@ajou.ac.kr\")\n",
    "\tdriver.find_element(By.CSS_SELECTOR, \".form-group:nth-child(2) .form-control\").send_keys(pw)\n",
    "\tdriver.find_element(By.CSS_SELECTOR, \".btn-fill\").click()\n",
    "\tdriver.find_element(By.CSS_SELECTOR, \"ul:nth-child(2) > li:nth-child(2) .titleNavMenu\").click()\n",
    " \n",
    "\t# 아주대 병원\n",
    "\t# PLP\n",
    "\t# filter에다가 filter_search 입력\n",
    "\t# Pakcage name find\n",
    "\t# utility 클릭\n",
    "\t# Pakcage name 적기\n",
    "\t# 다운로드 버튼\n",
    "\t# Yes\n",
    " "
   ]
  },
  {
   "cell_type": "code",
   "execution_count": null,
   "metadata": {},
   "outputs": [],
   "source": [
    "success_button = driver.find_element(by=By.CLASS_NAME,value=\"btn-success\") # 1개만\n",
    "success_buttons = driver.find_elements(by=By.CLASS_NAME,value=\"btn-success\") # 여러개\n",
    "\n",
    "#더 많다면...? -> Class name으로 찾을 수 없음. css_selector or XPath\n",
    "# https://chrome.google.com/webstore/detail/selectorshub/ndgimibanhlabgdgjcpbbndiehljcpfh?hl=ko\n",
    "\n",
    "# 하나하나 만들기 귀찮은데...\n",
    "# https://chrome.google.com/webstore/detail/selenium-ide/mooikfkahbdckldjjndioackbalphokd?hl=ko\n",
    "\n",
    "# 위 레코더로 기본적인 코드 툴 추출\n",
    "# 변수 및 조건문 정도만 따로 파이썬에서 작업해주면 됨!"
   ]
  },
  {
   "cell_type": "code",
   "execution_count": null,
   "metadata": {},
   "outputs": [],
   "source": [
    "# selenium IDE 예시\n",
    "def wait_for_window(self, timeout = 2):\n",
    "\ttime.sleep(round(timeout / 1000))\n",
    "\twh_now = self.driver.window_handles\n",
    "\twh_then = self.vars[\"window_handles\"]\n",
    "\tif len(wh_now) > len(wh_then):\n",
    "\t\treturn set(wh_now).difference(set(wh_then)).pop()\n",
    "\n",
    "def download_plp(target, driver):\n",
    "\tdriver.get(\"https://feedernet.com/member/main\")\n",
    "\tdriver.set_window_size(1920, 970)\n",
    "\tdriver.find_element(By.CSS_SELECTOR, \".login span\").click()\n",
    "\tdriver.find_element(By.CSS_SELECTOR, \".form-group:nth-child(1) > .form-group > .form-control\").click()\n",
    "\tdriver.find_element(By.CSS_SELECTOR, \".form-group:nth-child(1) > .form-group > .form-control\").send_keys(\"choi328328@ajou.ac.kr\")\n",
    "\tdriver.find_element(By.CSS_SELECTOR, \".form-group:nth-child(2) .form-control\").send_keys(pw)\n",
    "\tdriver.find_element(By.CSS_SELECTOR, \".form-group:nth-child(2) .form-control\").send_keys(Keys.ENTER)\n",
    "\tdriver.find_element(By.CSS_SELECTOR, \"ul:nth-child(2) > li:nth-child(2) .titleNavMenu\").click()\n",
    "\tvars[\"window_handles\"] = driver.window_handles\n",
    "\tdriver.find_element(By.CSS_SELECTOR, \".css-1vxgi72 .css-t5emrf\").click()\n",
    "\tvars[\"win8190\"] = wait_for_window(10000)\n",
    "\tdriver.switch_to.window(vars[\"win8190\"])\n",
    "\tdriver.find_element(By.LINK_TEXT, \"Prediction\").click()\n",
    "\tdriver.find_element(By.LINK_TEXT, target).click()\n"
   ]
  },
  {
   "cell_type": "code",
   "execution_count": 15,
   "metadata": {},
   "outputs": [
    {
     "name": "stdout",
     "output_type": "stream",
     "text": [
      "1\n",
      "3\n"
     ]
    }
   ],
   "source": [
    "# 조건문을 넣기 위해서는?\n",
    "def try_find(driver, by, name):\n",
    "    try:\n",
    "        driver.find_element(by, name)\n",
    "        return True\n",
    "    except Exception:\n",
    "        return False\n",
    "\n",
    "if 1==1:\n",
    "\tprint(1)\n",
    "\n",
    "if 1==2:\n",
    "\tprint(2)\n",
    "\t\n",
    "if True: \n",
    "\tprint(3)\n",
    "\n",
    "if False:\n",
    "\tprint(4)\n",
    "\n",
    "if try_find(driver, By.CSS_SELECTOR, \".login span\"):\n",
    "\tdriver.find_element(By.CSS_SELECTOR, \".login span\").click()\n",
    "\tdriver.find_element(By.CSS_SELECTOR, \".form-group:nth-child(1) > .form-group > .form-control\").click()\n",
    "\tdriver.find_element(By.CSS_SELECTOR, \".form-group:nth-child(1) > .form-group > .form-control\").send_keys(\"choi328328@ajou.ac.kr\")\n",
    "\tdriver.find_element(By.CSS_SELECTOR, \".form-group:nth-child(2) .form-control\").send_keys(pw)\n",
    "\tdriver.find_element(By.CSS_SELECTOR, \".form-group:nth-child(2) .form-control\").send_keys(Keys.ENTER)\n",
    " \n"
   ]
  },
  {
   "cell_type": "code",
   "execution_count": null,
   "metadata": {},
   "outputs": [],
   "source": [
    "# Until next week \n",
    "\n",
    "# 1. ATLAS에서 PLP로 들어가서 아무 prediction이나 다운 받는 코드 작성\n",
    "# 2. X를 Input으로 받아서 Feedernet에서 PLP로 들어가서 Prediction X를 다운로드하는 코드 작성\n",
    "# 클래스 개념에 대해 이해하고...selenium IDE가 떨궈주는 코드를 최대한 이용해보면 좋습니다(가능하면)\n"
   ]
  },
  {
   "cell_type": "code",
   "execution_count": null,
   "metadata": {},
   "outputs": [],
   "source": [
    "# CLI vs GUI\n",
    "\n",
    "# Terminal, CMD\n",
    "\n",
    "# SSH, SCP\n",
    "\n",
    "# tar, gzip, tar.gz, zip...\n",
    "\n",
    "# Configuration : XML, JSON, YAML, Dataclass (id, pw나 기타 등등 자주 바뀌는 변수들을 담아놓은 별도의 공간) \n",
    "\n",
    "# 위 키워드로 검색해서 구글에서 많이 읽어보세요~~\n",
    "# 특히 SSH, SCP 명령어 잘 기억해놓으세요."
   ]
  },
  {
   "cell_type": "code",
   "execution_count": null,
   "metadata": {},
   "outputs": [],
   "source": [
    "# 다음주 내용~~~ 다운 받은 파일을 서버로 옮겨서 실행해봅시다\n",
    "\n",
    "# 1. 다운 받은 prediction을 서버로 이동시킴(SCP 활용)\n",
    "# 2. 다운 받은 prediction을 압축 해제함(unzip 활용)\n",
    "# 3. R package build using terminal\n",
    "# 4. R script run using terminal\n",
    "# 5. Include everything in python with os module\n",
    "# 6. Run in terminal!"
   ]
  },
  {
   "cell_type": "code",
   "execution_count": null,
   "metadata": {},
   "outputs": [],
   "source": [
    "# 다다음주 내용\n",
    "\n",
    "# 1. logging 개념의 이해\n",
    "# 2. 모듈화의 필요성 및 클래스의 필요성\n",
    "# 3. 파이썬의 실제 모듈화 모양\n",
    "# 4. 실전! 연구실에서 노가다로 진행되는 작업들을 자동화해봅시다"
   ]
  },
  {
   "cell_type": "code",
   "execution_count": null,
   "metadata": {},
   "outputs": [],
   "source": [
    "# 다다다음주 내용 (Last time)\n",
    "\n",
    "# 1. 만든 작업들을 기반으로 피드백 진행"
   ]
  }
 ],
 "metadata": {
  "interpreter": {
   "hash": "0babe36d56b8a40e929084f4cd298e834b9ceb0b3c3094c65a02fb3d36632864"
  },
  "kernelspec": {
   "display_name": "Python 3.8.8 ('base')",
   "language": "python",
   "name": "python3"
  },
  "language_info": {
   "codemirror_mode": {
    "name": "ipython",
    "version": 3
   },
   "file_extension": ".py",
   "mimetype": "text/x-python",
   "name": "python",
   "nbconvert_exporter": "python",
   "pygments_lexer": "ipython3",
   "version": "3.8.8"
  },
  "orig_nbformat": 4
 },
 "nbformat": 4,
 "nbformat_minor": 2
}
